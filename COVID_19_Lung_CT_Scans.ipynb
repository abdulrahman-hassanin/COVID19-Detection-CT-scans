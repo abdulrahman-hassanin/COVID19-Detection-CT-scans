{
  "nbformat": 4,
  "nbformat_minor": 0,
  "metadata": {
    "colab": {
      "name": "COVID-19 Lung CT Scans.ipynb",
      "provenance": [],
      "collapsed_sections": [],
      "authorship_tag": "ABX9TyOXsCTJf8uH7RyhVufTFP5C",
      "include_colab_link": true
    },
    "kernelspec": {
      "name": "python3",
      "display_name": "Python 3"
    },
    "accelerator": "GPU"
  },
  "cells": [
    {
      "cell_type": "markdown",
      "metadata": {
        "id": "view-in-github",
        "colab_type": "text"
      },
      "source": [
        "<a href=\"https://colab.research.google.com/github/abdulrahman-hassanin/COVID19-Detection-CT-scans/blob/master/COVID_19_Lung_CT_Scans.ipynb\" target=\"_parent\"><img src=\"https://colab.research.google.com/assets/colab-badge.svg\" alt=\"Open In Colab\"/></a>"
      ]
    },
    {
      "cell_type": "markdown",
      "metadata": {
        "id": "DZ7XalkFEyR-",
        "colab_type": "text"
      },
      "source": [
        "# Data preparation"
      ]
    },
    {
      "cell_type": "code",
      "metadata": {
        "id": "dRA74c9M-Tn-",
        "colab_type": "code",
        "colab": {
          "resources": {
            "http://localhost:8080/nbextensions/google.colab/files.js": {
              "data": "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",
              "ok": true,
              "headers": [
                [
                  "content-type",
                  "application/javascript"
                ]
              ],
              "status": 200,
              "status_text": ""
            }
          },
          "base_uri": "https://localhost:8080/",
          "height": 92
        },
        "outputId": "56506677-1037-4274-def4-183ecb8beec3"
      },
      "source": [
        "from google.colab import files\n",
        "files.upload() #upload kaggle.json"
      ],
      "execution_count": 1,
      "outputs": [
        {
          "output_type": "display_data",
          "data": {
            "text/html": [
              "\n",
              "     <input type=\"file\" id=\"files-9acda4ea-444e-4d6d-940a-486e50f098db\" name=\"files[]\" multiple disabled />\n",
              "     <output id=\"result-9acda4ea-444e-4d6d-940a-486e50f098db\">\n",
              "      Upload widget is only available when the cell has been executed in the\n",
              "      current browser session. Please rerun this cell to enable.\n",
              "      </output>\n",
              "      <script src=\"/nbextensions/google.colab/files.js\"></script> "
            ],
            "text/plain": [
              "<IPython.core.display.HTML object>"
            ]
          },
          "metadata": {
            "tags": []
          }
        },
        {
          "output_type": "stream",
          "text": [
            "Saving kaggle.json to kaggle (1).json\n"
          ],
          "name": "stdout"
        },
        {
          "output_type": "execute_result",
          "data": {
            "text/plain": [
              "{'kaggle.json': b'{\"username\":\"abdulrahmanhassanin\",\"key\":\"e78be1d7021f152e76aeb722d383ed56\"}'}"
            ]
          },
          "metadata": {
            "tags": []
          },
          "execution_count": 1
        }
      ]
    },
    {
      "cell_type": "code",
      "metadata": {
        "id": "-36jIAtS-Uef",
        "colab_type": "code",
        "colab": {
          "base_uri": "https://localhost:8080/",
          "height": 35
        },
        "outputId": "c5e6604d-a754-4130-fcaa-2a883b956a9d"
      },
      "source": [
        "!pip install -q kaggle\n",
        "!mkdir -p ~/.kaggle\n",
        "!cp kaggle.json ~/.kaggle/\n",
        "!ls ~/.kaggle\n",
        "!chmod 600 /root/.kaggle/kaggle.json"
      ],
      "execution_count": 2,
      "outputs": [
        {
          "output_type": "stream",
          "text": [
            "kaggle.json\n"
          ],
          "name": "stdout"
        }
      ]
    },
    {
      "cell_type": "code",
      "metadata": {
        "id": "soo1y87a-XMC",
        "colab_type": "code",
        "colab": {
          "base_uri": "https://localhost:8080/",
          "height": 35
        },
        "outputId": "67c8606c-253a-4a92-81f2-be319e9033cf"
      },
      "source": [
        "!kaggle datasets download -d luisblanche/covidct"
      ],
      "execution_count": 3,
      "outputs": [
        {
          "output_type": "stream",
          "text": [
            "covidct.zip: Skipping, found more recently modified local copy (use --force to force download)\n"
          ],
          "name": "stdout"
        }
      ]
    },
    {
      "cell_type": "code",
      "metadata": {
        "id": "BowjUTPY-dhv",
        "colab_type": "code",
        "colab": {
          "base_uri": "https://localhost:8080/",
          "height": 124
        },
        "outputId": "e159de97-fd39-481b-8b1d-b110752b4fd2"
      },
      "source": [
        "%cd /content\n",
        "%ls"
      ],
      "execution_count": 4,
      "outputs": [
        {
          "output_type": "stream",
          "text": [
            "/content\n",
            " covidct.zip   graph4_94.jpg      model2.h5              model.h5\n",
            " \u001b[0m\u001b[01;34mDataset\u001b[0m/      graph4_97.jpg      model3.h5              my_model.h5\n",
            " graoh.jpg     graph4.jpg         model4_97.h5           \u001b[01;34msample_data\u001b[0m/\n",
            " graph2.jpg   'kaggle (1).json'   model4_97_weights.h5\n",
            " graph3.jpg    kaggle.json        model4.h5\n"
          ],
          "name": "stdout"
        }
      ]
    },
    {
      "cell_type": "code",
      "metadata": {
        "id": "g-0V0nwp_Ist",
        "colab_type": "code",
        "colab": {
          "base_uri": "https://localhost:8080/",
          "height": 35
        },
        "outputId": "8f2667ad-87ff-43c4-90d1-6e5ea6ca8497"
      },
      "source": [
        "!mkdir /content/Dataset/"
      ],
      "execution_count": 5,
      "outputs": [
        {
          "output_type": "stream",
          "text": [
            "mkdir: cannot create directory ‘/content/Dataset/’: File exists\n"
          ],
          "name": "stdout"
        }
      ]
    },
    {
      "cell_type": "code",
      "metadata": {
        "id": "4CwBnnoI-oGZ",
        "colab_type": "code",
        "colab": {
          "base_uri": "https://localhost:8080/",
          "height": 35
        },
        "outputId": "90ca90a3-5916-4e8c-b6b1-9d72a0bc2c03"
      },
      "source": [
        "!unzip -q covidct.zip -d /content/Dataset"
      ],
      "execution_count": 6,
      "outputs": [
        {
          "output_type": "stream",
          "text": [
            "replace /content/Dataset/COVID-CT-MetaInfo.xlsx? [y]es, [n]o, [A]ll, [N]one, [r]ename: "
          ],
          "name": "stdout"
        }
      ]
    },
    {
      "cell_type": "code",
      "metadata": {
        "id": "fJ9VEM3F-wjU",
        "colab_type": "code",
        "colab": {}
      },
      "source": [
        "import numpy as np\n",
        "import pandas as pd\n",
        "import matplotlib.pyplot as plt\n",
        "import cv2\n",
        "import os\n",
        "from glob import glob\n",
        "import random\n",
        "import shutil"
      ],
      "execution_count": 0,
      "outputs": []
    },
    {
      "cell_type": "code",
      "metadata": {
        "id": "CFV895e9_qYV",
        "colab_type": "code",
        "colab": {
          "base_uri": "https://localhost:8080/",
          "height": 52
        },
        "outputId": "d281708d-5a10-48c9-8c5e-0fabd29949e4"
      },
      "source": [
        "!mkdir /content/Dataset/train\n",
        "!mkdir /content/Dataset/test"
      ],
      "execution_count": 8,
      "outputs": [
        {
          "output_type": "stream",
          "text": [
            "mkdir: cannot create directory ‘/content/Dataset/train’: File exists\n",
            "mkdir: cannot create directory ‘/content/Dataset/test’: File exists\n"
          ],
          "name": "stdout"
        }
      ]
    },
    {
      "cell_type": "code",
      "metadata": {
        "id": "Jdud8Xrw_zWR",
        "colab_type": "code",
        "colab": {
          "base_uri": "https://localhost:8080/",
          "height": 52
        },
        "outputId": "b32e5a26-3b64-49f3-9203-b0dd929871d9"
      },
      "source": [
        "%cd /content/Dataset\n",
        "!ls"
      ],
      "execution_count": 9,
      "outputs": [
        {
          "output_type": "stream",
          "text": [
            "/content/Dataset\n",
            "COVID-CT-MetaInfo.xlsx\tCT_COVID  CT_NonCOVID  test  train\n"
          ],
          "name": "stdout"
        }
      ]
    },
    {
      "cell_type": "code",
      "metadata": {
        "id": "JNi7Ycqt_65T",
        "colab_type": "code",
        "colab": {}
      },
      "source": [
        "data_root='/content/Dataset'\n",
        "path_covid = os.path.join(data_root, 'CT_COVID/')\n",
        "path_NonCovid = os.path.join(data_root, 'CT_NonCOVID/')"
      ],
      "execution_count": 0,
      "outputs": []
    },
    {
      "cell_type": "code",
      "metadata": {
        "id": "AySLHEp7A70H",
        "colab_type": "code",
        "colab": {}
      },
      "source": [
        "# jpg and png files\n",
        "covid_images_ls = glob(os.path.join(path_covid,\"*.png\"))\n",
        "\n",
        "nonCovid_images_ls = glob(os.path.join(path_NonCovid,\"*.png\"))\n",
        "nonCovid_images_ls.extend(glob(os.path.join(path_NonCovid,\"*.jpg\")))"
      ],
      "execution_count": 0,
      "outputs": []
    },
    {
      "cell_type": "code",
      "metadata": {
        "id": "-MCPi5tjBPFi",
        "colab_type": "code",
        "colab": {}
      },
      "source": [
        "covid = {'class': 'CT_COVID',\n",
        "         'path': path_covid,\n",
        "         'images': covid_images_ls}\n",
        "\n",
        "non_covid = {'class': 'CT_NonCOVID',\n",
        "             'path': path_NonCovid,\n",
        "             'images': nonCovid_images_ls}"
      ],
      "execution_count": 0,
      "outputs": []
    },
    {
      "cell_type": "code",
      "metadata": {
        "id": "nQMtenC5Bdhf",
        "colab_type": "code",
        "colab": {
          "base_uri": "https://localhost:8080/",
          "height": 52
        },
        "outputId": "48d70dd8-f8b2-4fa4-a1a5-1a20a4e0d1d1"
      },
      "source": [
        "total_covid = len(covid_images_ls)\n",
        "total_nonCovid = len(nonCovid_images_ls)\n",
        "print(\"Total Positive Cases Covid19 images: {}\".format(total_covid))\n",
        "print(\"Total Negative Cases Covid19 images: {}\".format(total_nonCovid))"
      ],
      "execution_count": 13,
      "outputs": [
        {
          "output_type": "stream",
          "text": [
            "Total Positive Cases Covid19 images: 349\n",
            "Total Negative Cases Covid19 images: 397\n"
          ],
          "name": "stdout"
        }
      ]
    },
    {
      "cell_type": "code",
      "metadata": {
        "id": "7oWAC8MSBtVJ",
        "colab_type": "code",
        "colab": {
          "base_uri": "https://localhost:8080/",
          "height": 235
        },
        "outputId": "459c0e8c-5461-42b7-bffc-ec69a3328f52"
      },
      "source": [
        "image_covid = cv2.imread(os.path.join(covid_images_ls[1]))\n",
        "image_nonCovid = cv2.imread(os.path.join(nonCovid_images_ls[5]))\n",
        "\n",
        "f = plt.figure(figsize=(8, 8))\n",
        "f.add_subplot(1, 2, 1)\n",
        "plt.imshow(image_nonCovid)\n",
        "f.add_subplot(1,2, 2)\n",
        "plt.imshow(image_covid)"
      ],
      "execution_count": 14,
      "outputs": [
        {
          "output_type": "execute_result",
          "data": {
            "text/plain": [
              "<matplotlib.image.AxesImage at 0x7f2abe534f28>"
            ]
          },
          "metadata": {
            "tags": []
          },
          "execution_count": 14
        },
        {
          "output_type": "display_data",
          "data": {
            "image/png": "[encoded data removed]",
            "text/plain": [
              "<Figure size 576x576 with 2 Axes>"
            ]
          },
          "metadata": {
            "tags": [],
            "needs_background": "light"
          }
        }
      ]
    },
    {
      "cell_type": "code",
      "metadata": {
        "id": "UaSLlKxgB2Vk",
        "colab_type": "code",
        "colab": {
          "base_uri": "https://localhost:8080/",
          "height": 52
        },
        "outputId": "5eab5c04-c1a5-4c69-b75f-02b96896efd6"
      },
      "source": [
        "print(\"Image COVID Shape {}\".format(image_covid.shape))\n",
        "print(\"Image Non COVID Shape {}\".format(image_nonCovid.shape))"
      ],
      "execution_count": 15,
      "outputs": [
        {
          "output_type": "stream",
          "text": [
            "Image COVID Shape (221, 408, 3)\n",
            "Image Non COVID Shape (418, 512, 3)\n"
          ],
          "name": "stdout"
        }
      ]
    },
    {
      "cell_type": "code",
      "metadata": {
        "id": "XjlWf61lCPhA",
        "colab_type": "code",
        "colab": {}
      },
      "source": [
        "subdirs  = ['/content/Dataset/train/', '/content/Dataset/test/']\n",
        "for subdir in subdirs:\n",
        "    labeldirs = ['CT_COVID', 'CT_NonCOVID']\n",
        "    for labldir in labeldirs:\n",
        "        newdir = subdir + labldir\n",
        "        os.makedirs(newdir, exist_ok=True)"
      ],
      "execution_count": 0,
      "outputs": []
    },
    {
      "cell_type": "code",
      "metadata": {
        "id": "8OAfvvgXCqPN",
        "colab_type": "code",
        "colab": {
          "base_uri": "https://localhost:8080/",
          "height": 52
        },
        "outputId": "fe3582ad-9e39-4bc3-a10e-0178bec05264"
      },
      "source": [
        "%cd /content/Dataset/train/\n",
        "!ls"
      ],
      "execution_count": 17,
      "outputs": [
        {
          "output_type": "stream",
          "text": [
            "/content/Dataset/train\n",
            "CT_COVID  CT_NonCOVID\n"
          ],
          "name": "stdout"
        }
      ]
    },
    {
      "cell_type": "code",
      "metadata": {
        "id": "PCPi7iQTCwXu",
        "colab_type": "code",
        "colab": {
          "base_uri": "https://localhost:8080/",
          "height": 52
        },
        "outputId": "5fee3934-da71-4c33-f990-2125afa00319"
      },
      "source": [
        "# Copy Images to test set\n",
        "random.seed(0)\n",
        "# data_splitting \n",
        "test_ratio = 0.25\n",
        "\n",
        "\n",
        "for cases in [covid, non_covid]:\n",
        "    total_cases = len(cases['images']) #number of total images\n",
        "    num_to_select = int(test_ratio * total_cases) #number of images to copy to test set\n",
        "    \n",
        "    print(cases['class'], num_to_select)\n",
        "    \n",
        "    list_of_random_files = random.sample(cases['images'], num_to_select) #random files selected\n",
        "\n",
        "    for files in list_of_random_files:\n",
        "        shutil.copy2(files, '/content/Dataset/test/' + cases['class'])"
      ],
      "execution_count": 18,
      "outputs": [
        {
          "output_type": "stream",
          "text": [
            "CT_COVID 87\n",
            "CT_NonCOVID 99\n"
          ],
          "name": "stdout"
        }
      ]
    },
    {
      "cell_type": "code",
      "metadata": {
        "id": "Q4FWtrVlDFhU",
        "colab_type": "code",
        "colab": {}
      },
      "source": [
        "# Copy Images to train set\n",
        "for cases in [covid, non_covid]:\n",
        "    image_test_files = os.listdir('/content/Dataset/test/' + cases['class']) # list test files \n",
        "    for images in cases['images']:\n",
        "        if images.split('/')[-1] not in (image_test_files): #exclude test files from shutil.copy\n",
        "            shutil.copy2(images, '/content/Dataset/train/' + cases['class'])"
      ],
      "execution_count": 0,
      "outputs": []
    },
    {
      "cell_type": "code",
      "metadata": {
        "id": "QDg7QI76DfzX",
        "colab_type": "code",
        "colab": {
          "base_uri": "https://localhost:8080/",
          "height": 88
        },
        "outputId": "a14818a5-6303-40a6-e125-77f6d2b5e67f"
      },
      "source": [
        "train_data_path = '/content/Dataset/train'\n",
        "test_data_path  = '/content/Dataset/test'\n",
        "total_train_covid    = len(os.listdir(os.path.join(train_data_path, 'CT_COVID/')))\n",
        "total_train_noncovid = len(os.listdir(os.path.join(train_data_path, 'CT_NonCOVID/')))\n",
        "total_test_covid     = len(os.listdir(os.path.join(test_data_path, 'CT_COVID/')))\n",
        "total_test_noncovid  = len(os.listdir(os.path.join(test_data_path, 'CT_NonCOVID/')))\n",
        "\n",
        "print(\"Train sets images COVID: {}\".format(total_train_covid))\n",
        "print(\"Train sets images Non COVID: {}\".format(total_train_noncovid))\n",
        "print(\"Test sets images COVID: {}\".format(total_test_covid))\n",
        "print(\"Test sets images Non COVID: {}\".format(total_test_noncovid))"
      ],
      "execution_count": 20,
      "outputs": [
        {
          "output_type": "stream",
          "text": [
            "Train sets images COVID: 315\n",
            "Train sets images Non COVID: 358\n",
            "Test sets images COVID: 88\n",
            "Test sets images Non COVID: 121\n"
          ],
          "name": "stdout"
        }
      ]
    },
    {
      "cell_type": "code",
      "metadata": {
        "id": "65JaDKzcD9yj",
        "colab_type": "code",
        "colab": {
          "base_uri": "https://localhost:8080/",
          "height": 35
        },
        "outputId": "da01ad55-d227-4a0a-c805-0c6f2db2ad6f"
      },
      "source": [
        "%cd /content/"
      ],
      "execution_count": 21,
      "outputs": [
        {
          "output_type": "stream",
          "text": [
            "/content\n"
          ],
          "name": "stdout"
        }
      ]
    },
    {
      "cell_type": "markdown",
      "metadata": {
        "id": "jyfIdi3NEs-Y",
        "colab_type": "text"
      },
      "source": [
        "# Data Prepocessing "
      ]
    },
    {
      "cell_type": "code",
      "metadata": {
        "id": "FT-8-lZ4EZs8",
        "colab_type": "code",
        "colab": {
          "base_uri": "https://localhost:8080/",
          "height": 35
        },
        "outputId": "c3d65480-c3bf-416e-9ea5-a92a1ba2c5c2"
      },
      "source": [
        "from keras import backend as K\n",
        "from tensorflow.keras.preprocessing.image import ImageDataGenerator\n",
        "from keras.models import Sequential\n",
        "from keras.layers import Conv2D, MaxPooling2D, Flatten, Dropout, Dense, BatchNormalization\n",
        "from keras.callbacks import ModelCheckpoint\n",
        "from keras.utils.np_utils import to_categorical\n",
        "from keras.losses import categorical_crossentropy, binary_crossentropy\n",
        "from keras.callbacks import ModelCheckpoint, EarlyStopping\n",
        "from keras.models import load_model"
      ],
      "execution_count": 22,
      "outputs": [
        {
          "output_type": "stream",
          "text": [
            "Using TensorFlow backend.\n"
          ],
          "name": "stderr"
        }
      ]
    },
    {
      "cell_type": "code",
      "metadata": {
        "id": "CHhe0jBrFM_W",
        "colab_type": "code",
        "colab": {}
      },
      "source": [
        "IMG_HEIGHT = 200\n",
        "IMG_WIDTH = 200\n",
        "# batch_size = 214\n",
        "epochs = 75\n",
        "num_classes = 1\n",
        "\n",
        "total_train = total_train_covid + total_train_noncovid\n",
        "total_test  = total_test_covid  + total_test_noncovid"
      ],
      "execution_count": 0,
      "outputs": []
    },
    {
      "cell_type": "code",
      "metadata": {
        "id": "AzLxFY0AFCa_",
        "colab_type": "code",
        "colab": {}
      },
      "source": [
        "Image_generator = ImageDataGenerator(rescale=1./255) # Generator data"
      ],
      "execution_count": 0,
      "outputs": []
    },
    {
      "cell_type": "code",
      "metadata": {
        "id": "6Lz2MK1kFIcq",
        "colab_type": "code",
        "colab": {
          "base_uri": "https://localhost:8080/",
          "height": 35
        },
        "outputId": "9d11629e-5e94-4f64-975c-11a7377c71bf"
      },
      "source": [
        "train_data = Image_generator.flow_from_directory(batch_size=total_train,\n",
        "                                                     directory=train_data_path,\n",
        "                                                     shuffle=True,\n",
        "                                                     target_size=(IMG_HEIGHT, IMG_WIDTH),\n",
        "                                                     classes=['CT_NonCOVID', 'CT_COVID'],\n",
        "                                                     class_mode='binary')"
      ],
      "execution_count": 25,
      "outputs": [
        {
          "output_type": "stream",
          "text": [
            "Found 673 images belonging to 2 classes.\n"
          ],
          "name": "stdout"
        }
      ]
    },
    {
      "cell_type": "code",
      "metadata": {
        "id": "D-1n8cKAFonE",
        "colab_type": "code",
        "colab": {
          "base_uri": "https://localhost:8080/",
          "height": 35
        },
        "outputId": "e1c88ee8-2cd9-47db-ea54-a651d7e1c701"
      },
      "source": [
        "test_data = Image_generator.flow_from_directory(batch_size=total_test,\n",
        "                                                    directory=test_data_path,\n",
        "                                                    shuffle=True,\n",
        "                                                    target_size=(IMG_HEIGHT, IMG_WIDTH),\n",
        "                                                    classes=['CT_NonCOVID', 'CT_COVID'],\n",
        "                                                    class_mode='binary')"
      ],
      "execution_count": 26,
      "outputs": [
        {
          "output_type": "stream",
          "text": [
            "Found 209 images belonging to 2 classes.\n"
          ],
          "name": "stdout"
        }
      ]
    },
    {
      "cell_type": "code",
      "metadata": {
        "id": "16q43yqcFwCr",
        "colab_type": "code",
        "colab": {}
      },
      "source": [
        "# Extract Data\n",
        "for X_train, y_train in train_data:\n",
        "    break\n",
        "for X_test, y_test in test_data:\n",
        "    break"
      ],
      "execution_count": 0,
      "outputs": []
    },
    {
      "cell_type": "code",
      "metadata": {
        "id": "uCC0ocFOF7Cw",
        "colab_type": "code",
        "colab": {
          "base_uri": "https://localhost:8080/",
          "height": 35
        },
        "outputId": "03d129a5-4547-4576-d400-a900e2c891c4"
      },
      "source": [
        "# classes Label\n",
        "train_data.class_indices"
      ],
      "execution_count": 28,
      "outputs": [
        {
          "output_type": "execute_result",
          "data": {
            "text/plain": [
              "{'CT_COVID': 1, 'CT_NonCOVID': 0}"
            ]
          },
          "metadata": {
            "tags": []
          },
          "execution_count": 28
        }
      ]
    },
    {
      "cell_type": "markdown",
      "metadata": {
        "id": "FmC5RUnzHZ49",
        "colab_type": "text"
      },
      "source": [
        "# Training "
      ]
    },
    {
      "cell_type": "code",
      "metadata": {
        "id": "Kf1ge5-FHXE4",
        "colab_type": "code",
        "colab": {}
      },
      "source": [
        "model = Sequential([\n",
        "    Conv2D(8, (3,3), activation='relu', padding='same' ,input_shape=[IMG_HEIGHT, IMG_WIDTH, 3]),  \n",
        "    MaxPooling2D(2),\n",
        "    \n",
        "    Conv2D(32, (3,3), padding='same' ,activation='relu'),   \n",
        "    MaxPooling2D(2),  \n",
        "    Dropout(0.5),    \n",
        "    \n",
        "    Conv2D(64, (3,3), padding='same' ,activation='relu'),\n",
        "    MaxPooling2D(2),    \n",
        "    Dropout(0.5),\n",
        "    \n",
        "    Conv2D(132, (3,3), padding='same' ,activation='relu'),  \n",
        "    MaxPooling2D(2),  \n",
        "    Dropout(0.5),   #0.8\n",
        "      \n",
        "    \n",
        "    Flatten(),    \n",
        "    Dense(512, activation='relu'),\n",
        "    Dropout(0.5),     #0.8\n",
        "\n",
        "    Dense(64, activation='relu'),\n",
        "    Dropout(0.5),\n",
        "     \n",
        "    Dense(num_classes, activation='sigmoid') \n",
        "])"
      ],
      "execution_count": 0,
      "outputs": []
    },
    {
      "cell_type": "code",
      "metadata": {
        "id": "yMspj6lvIg-V",
        "colab_type": "code",
        "colab": {}
      },
      "source": [
        "# compile the model\n",
        "model.compile(optimizer='adam', \n",
        "              loss='binary_crossentropy', \n",
        "              metrics=['acc'])"
      ],
      "execution_count": 0,
      "outputs": []
    },
    {
      "cell_type": "code",
      "metadata": {
        "id": "9H-i8vuzItRi",
        "colab_type": "code",
        "colab": {
          "base_uri": "https://localhost:8080/",
          "height": 1000
        },
        "outputId": "8b34590d-0c9b-4bfb-9ed2-bd1076bbdedc"
      },
      "source": [
        "# early = EarlyStopping(monitor=\"val_loss\", mode=\"min\", patience=10)\n",
        "early = EarlyStopping(\n",
        "        monitor='val_acc', \n",
        "        patience=15,\n",
        "        mode='max',\n",
        "        restore_best_weights=True,\n",
        "        verbose=1)\n",
        "check_point = ModelCheckpoint(\"./my_model.h5\", monitor=\"val_loss\", save_best_only=True)\n",
        "\n",
        "callbacks_list = [ check_point, early]\n",
        "\n",
        "\n",
        "history = model.fit(\n",
        "    X_train, y_train,\n",
        "    batch_size=32,\n",
        "    epochs=150,\n",
        "    verbose=1,\n",
        "    validation_data=(X_test, y_test),\n",
        "    callbacks=callbacks_list\n",
        ")"
      ],
      "execution_count": 106,
      "outputs": [
        {
          "output_type": "stream",
          "text": [
            "Train on 673 samples, validate on 209 samples\n",
            "Epoch 1/150\n",
            "673/673 [==============================] - 1s 2ms/step - loss: 0.7546 - acc: 0.5171 - val_loss: 0.6919 - val_acc: 0.5789\n",
            "Epoch 2/150\n",
            "673/673 [==============================] - 1s 1ms/step - loss: 0.6941 - acc: 0.5319 - val_loss: 0.6898 - val_acc: 0.5789\n",
            "Epoch 3/150\n",
            "673/673 [==============================] - 1s 1ms/step - loss: 0.6916 - acc: 0.5334 - val_loss: 0.6893 - val_acc: 0.5789\n",
            "Epoch 4/150\n",
            "673/673 [==============================] - 1s 1ms/step - loss: 0.6876 - acc: 0.5602 - val_loss: 0.6869 - val_acc: 0.6411\n",
            "Epoch 5/150\n",
            "673/673 [==============================] - 1s 1ms/step - loss: 0.6848 - acc: 0.5721 - val_loss: 0.6778 - val_acc: 0.6411\n",
            "Epoch 6/150\n",
            "673/673 [==============================] - 1s 1ms/step - loss: 0.6589 - acc: 0.6181 - val_loss: 0.6637 - val_acc: 0.6699\n",
            "Epoch 7/150\n",
            "673/673 [==============================] - 1s 1ms/step - loss: 0.6396 - acc: 0.6746 - val_loss: 0.6438 - val_acc: 0.6459\n",
            "Epoch 8/150\n",
            "673/673 [==============================] - 1s 1ms/step - loss: 0.6235 - acc: 0.6582 - val_loss: 0.6084 - val_acc: 0.6651\n",
            "Epoch 9/150\n",
            "673/673 [==============================] - 1s 1ms/step - loss: 0.5887 - acc: 0.6924 - val_loss: 0.5850 - val_acc: 0.7321\n",
            "Epoch 10/150\n",
            "673/673 [==============================] - 1s 1ms/step - loss: 0.5524 - acc: 0.7162 - val_loss: 0.5321 - val_acc: 0.7560\n",
            "Epoch 11/150\n",
            "673/673 [==============================] - 1s 1ms/step - loss: 0.5023 - acc: 0.7429 - val_loss: 0.4715 - val_acc: 0.8038\n",
            "Epoch 12/150\n",
            "673/673 [==============================] - 1s 1ms/step - loss: 0.4554 - acc: 0.7890 - val_loss: 0.4631 - val_acc: 0.7703\n",
            "Epoch 13/150\n",
            "673/673 [==============================] - 1s 1ms/step - loss: 0.4658 - acc: 0.7727 - val_loss: 0.4795 - val_acc: 0.7703\n",
            "Epoch 14/150\n",
            "673/673 [==============================] - 1s 1ms/step - loss: 0.4455 - acc: 0.8053 - val_loss: 0.4082 - val_acc: 0.8230\n",
            "Epoch 15/150\n",
            "673/673 [==============================] - 1s 1ms/step - loss: 0.4522 - acc: 0.8053 - val_loss: 0.5042 - val_acc: 0.7560\n",
            "Epoch 16/150\n",
            "673/673 [==============================] - 1s 1ms/step - loss: 0.4574 - acc: 0.7831 - val_loss: 0.4114 - val_acc: 0.8086\n",
            "Epoch 17/150\n",
            "673/673 [==============================] - 1s 1ms/step - loss: 0.4103 - acc: 0.8187 - val_loss: 0.4066 - val_acc: 0.8086\n",
            "Epoch 18/150\n",
            "673/673 [==============================] - 1s 1ms/step - loss: 0.4020 - acc: 0.8306 - val_loss: 0.4452 - val_acc: 0.7847\n",
            "Epoch 19/150\n",
            "673/673 [==============================] - 1s 1ms/step - loss: 0.3734 - acc: 0.8440 - val_loss: 0.4232 - val_acc: 0.8086\n",
            "Epoch 20/150\n",
            "673/673 [==============================] - 1s 1ms/step - loss: 0.3266 - acc: 0.8544 - val_loss: 0.3197 - val_acc: 0.8612\n",
            "Epoch 21/150\n",
            "673/673 [==============================] - 1s 1ms/step - loss: 0.3088 - acc: 0.8737 - val_loss: 0.4101 - val_acc: 0.8038\n",
            "Epoch 22/150\n",
            "673/673 [==============================] - 1s 1ms/step - loss: 0.3233 - acc: 0.8633 - val_loss: 0.3444 - val_acc: 0.8230\n",
            "Epoch 23/150\n",
            "673/673 [==============================] - 1s 1ms/step - loss: 0.3453 - acc: 0.8514 - val_loss: 0.3288 - val_acc: 0.8517\n",
            "Epoch 24/150\n",
            "673/673 [==============================] - 1s 1ms/step - loss: 0.2835 - acc: 0.8811 - val_loss: 0.2662 - val_acc: 0.8852\n",
            "Epoch 25/150\n",
            "673/673 [==============================] - 1s 1ms/step - loss: 0.2828 - acc: 0.8856 - val_loss: 0.3089 - val_acc: 0.8565\n",
            "Epoch 26/150\n",
            "673/673 [==============================] - 1s 1ms/step - loss: 0.2738 - acc: 0.8900 - val_loss: 0.2527 - val_acc: 0.8852\n",
            "Epoch 27/150\n",
            "673/673 [==============================] - 1s 1ms/step - loss: 0.3543 - acc: 0.8306 - val_loss: 0.2848 - val_acc: 0.8900\n",
            "Epoch 28/150\n",
            "673/673 [==============================] - 1s 1ms/step - loss: 0.2851 - acc: 0.8663 - val_loss: 0.2544 - val_acc: 0.8947\n",
            "Epoch 29/150\n",
            "673/673 [==============================] - 1s 1ms/step - loss: 0.2355 - acc: 0.9079 - val_loss: 0.2385 - val_acc: 0.9234\n",
            "Epoch 30/150\n",
            "673/673 [==============================] - 1s 1ms/step - loss: 0.3241 - acc: 0.8826 - val_loss: 0.2799 - val_acc: 0.8947\n",
            "Epoch 31/150\n",
            "673/673 [==============================] - 1s 1ms/step - loss: 0.2378 - acc: 0.9019 - val_loss: 0.2275 - val_acc: 0.9234\n",
            "Epoch 32/150\n",
            "673/673 [==============================] - 1s 1ms/step - loss: 0.2493 - acc: 0.9108 - val_loss: 0.2257 - val_acc: 0.9187\n",
            "Epoch 33/150\n",
            "673/673 [==============================] - 1s 1ms/step - loss: 0.2018 - acc: 0.9212 - val_loss: 0.1985 - val_acc: 0.9330\n",
            "Epoch 34/150\n",
            "673/673 [==============================] - 1s 1ms/step - loss: 0.1971 - acc: 0.9168 - val_loss: 0.1960 - val_acc: 0.9330\n",
            "Epoch 35/150\n",
            "673/673 [==============================] - 1s 1ms/step - loss: 0.1842 - acc: 0.9346 - val_loss: 0.1918 - val_acc: 0.9234\n",
            "Epoch 36/150\n",
            "673/673 [==============================] - 1s 1ms/step - loss: 0.1840 - acc: 0.9212 - val_loss: 0.1952 - val_acc: 0.9282\n",
            "Epoch 37/150\n",
            "673/673 [==============================] - 1s 1ms/step - loss: 0.1350 - acc: 0.9465 - val_loss: 0.2122 - val_acc: 0.9378\n",
            "Epoch 38/150\n",
            "673/673 [==============================] - 1s 1ms/step - loss: 0.1263 - acc: 0.9599 - val_loss: 0.2165 - val_acc: 0.9234\n",
            "Epoch 39/150\n",
            "673/673 [==============================] - 1s 1ms/step - loss: 0.1506 - acc: 0.9495 - val_loss: 0.2029 - val_acc: 0.9282\n",
            "Epoch 40/150\n",
            "673/673 [==============================] - 1s 1ms/step - loss: 0.1453 - acc: 0.9495 - val_loss: 0.1872 - val_acc: 0.9330\n",
            "Epoch 41/150\n",
            "673/673 [==============================] - 1s 1ms/step - loss: 0.1403 - acc: 0.9510 - val_loss: 0.1807 - val_acc: 0.9234\n",
            "Epoch 42/150\n",
            "673/673 [==============================] - 1s 1ms/step - loss: 0.1109 - acc: 0.9584 - val_loss: 0.1554 - val_acc: 0.9426\n",
            "Epoch 43/150\n",
            "673/673 [==============================] - 1s 1ms/step - loss: 0.1295 - acc: 0.9480 - val_loss: 0.1975 - val_acc: 0.9378\n",
            "Epoch 44/150\n",
            "673/673 [==============================] - 1s 1ms/step - loss: 0.2005 - acc: 0.9391 - val_loss: 0.1949 - val_acc: 0.9330\n",
            "Epoch 45/150\n",
            "673/673 [==============================] - 1s 1ms/step - loss: 0.1630 - acc: 0.9450 - val_loss: 0.2021 - val_acc: 0.9043\n",
            "Epoch 46/150\n",
            "673/673 [==============================] - 1s 1ms/step - loss: 0.2068 - acc: 0.9227 - val_loss: 0.1352 - val_acc: 0.9522\n",
            "Epoch 47/150\n",
            "673/673 [==============================] - 1s 1ms/step - loss: 0.1181 - acc: 0.9495 - val_loss: 0.1812 - val_acc: 0.9282\n",
            "Epoch 48/150\n",
            "673/673 [==============================] - 1s 1ms/step - loss: 0.0878 - acc: 0.9792 - val_loss: 0.1595 - val_acc: 0.9522\n",
            "Epoch 49/150\n",
            "673/673 [==============================] - 1s 1ms/step - loss: 0.0949 - acc: 0.9733 - val_loss: 0.1212 - val_acc: 0.9569\n",
            "Epoch 50/150\n",
            "673/673 [==============================] - 1s 1ms/step - loss: 0.1129 - acc: 0.9673 - val_loss: 0.1386 - val_acc: 0.9522\n",
            "Epoch 51/150\n",
            "673/673 [==============================] - 1s 1ms/step - loss: 0.0900 - acc: 0.9673 - val_loss: 0.1124 - val_acc: 0.9569\n",
            "Epoch 52/150\n",
            "673/673 [==============================] - 1s 1ms/step - loss: 0.0610 - acc: 0.9837 - val_loss: 0.1684 - val_acc: 0.9378\n",
            "Epoch 53/150\n",
            "673/673 [==============================] - 1s 1ms/step - loss: 0.0821 - acc: 0.9703 - val_loss: 0.1346 - val_acc: 0.9522\n",
            "Epoch 54/150\n",
            "673/673 [==============================] - 1s 1ms/step - loss: 0.0808 - acc: 0.9703 - val_loss: 0.1102 - val_acc: 0.9617\n",
            "Epoch 55/150\n",
            "673/673 [==============================] - 1s 1ms/step - loss: 0.0689 - acc: 0.9747 - val_loss: 0.1050 - val_acc: 0.9665\n",
            "Epoch 56/150\n",
            "673/673 [==============================] - 1s 1ms/step - loss: 0.3622 - acc: 0.8826 - val_loss: 0.2228 - val_acc: 0.9234\n",
            "Epoch 57/150\n",
            "673/673 [==============================] - 1s 1ms/step - loss: 0.1545 - acc: 0.9450 - val_loss: 0.1485 - val_acc: 0.9713\n",
            "Epoch 58/150\n",
            "673/673 [==============================] - 1s 1ms/step - loss: 0.1146 - acc: 0.9584 - val_loss: 0.1656 - val_acc: 0.9522\n",
            "Epoch 59/150\n",
            "673/673 [==============================] - 1s 1ms/step - loss: 0.1089 - acc: 0.9554 - val_loss: 0.1770 - val_acc: 0.9426\n",
            "Epoch 60/150\n",
            "673/673 [==============================] - 1s 1ms/step - loss: 0.1084 - acc: 0.9539 - val_loss: 0.1407 - val_acc: 0.9426\n",
            "Epoch 61/150\n",
            "673/673 [==============================] - 1s 1ms/step - loss: 0.0985 - acc: 0.9718 - val_loss: 0.1411 - val_acc: 0.9474\n",
            "Epoch 62/150\n",
            "673/673 [==============================] - 1s 1ms/step - loss: 0.0615 - acc: 0.9777 - val_loss: 0.1957 - val_acc: 0.9426\n",
            "Epoch 63/150\n",
            "673/673 [==============================] - 1s 1ms/step - loss: 0.0559 - acc: 0.9822 - val_loss: 0.1230 - val_acc: 0.9522\n",
            "Epoch 64/150\n",
            "673/673 [==============================] - 1s 1ms/step - loss: 0.0699 - acc: 0.9747 - val_loss: 0.1554 - val_acc: 0.9617\n",
            "Epoch 65/150\n",
            "673/673 [==============================] - 1s 1ms/step - loss: 0.1009 - acc: 0.9629 - val_loss: 0.2268 - val_acc: 0.9378\n",
            "Epoch 66/150\n",
            "673/673 [==============================] - 1s 1ms/step - loss: 0.1140 - acc: 0.9658 - val_loss: 0.1260 - val_acc: 0.9522\n",
            "Epoch 67/150\n",
            "673/673 [==============================] - 1s 1ms/step - loss: 0.0919 - acc: 0.9688 - val_loss: 0.1747 - val_acc: 0.9474\n",
            "Epoch 68/150\n",
            "673/673 [==============================] - 1s 1ms/step - loss: 0.0636 - acc: 0.9762 - val_loss: 0.1427 - val_acc: 0.9522\n",
            "Epoch 69/150\n",
            "673/673 [==============================] - 1s 1ms/step - loss: 0.0392 - acc: 0.9866 - val_loss: 0.1518 - val_acc: 0.9665\n",
            "Epoch 70/150\n",
            "673/673 [==============================] - 1s 1ms/step - loss: 0.0341 - acc: 0.9866 - val_loss: 0.2010 - val_acc: 0.9522\n",
            "Epoch 71/150\n",
            "673/673 [==============================] - 1s 1ms/step - loss: 0.0561 - acc: 0.9792 - val_loss: 0.1779 - val_acc: 0.9522\n",
            "Epoch 72/150\n",
            "673/673 [==============================] - 1s 1ms/step - loss: 0.0565 - acc: 0.9792 - val_loss: 0.2006 - val_acc: 0.9474\n",
            "Restoring model weights from the end of the best epoch\n",
            "Epoch 00072: early stopping\n"
          ],
          "name": "stdout"
        }
      ]
    },
    {
      "cell_type": "code",
      "metadata": {
        "id": "mevxRZDoJC1C",
        "colab_type": "code",
        "colab": {
          "base_uri": "https://localhost:8080/",
          "height": 227
        },
        "outputId": "5c79e976-3cd2-459e-c83c-66cfa96e8713"
      },
      "source": [
        "acc = history.history['acc']\n",
        "val_acc = history.history['val_acc']\n",
        "\n",
        "loss = history.history['loss']\n",
        "val_loss = history.history['val_loss']\n",
        "\n",
        "epochs_range = range(len(loss))\n",
        "\n",
        "plt.figure(figsize=(16, 3))\n",
        "plt.subplot(1, 2, 1)\n",
        "plt.plot(epochs_range, acc, label='Training Accuracy')\n",
        "plt.plot(epochs_range, val_acc, label='Validation Accuracy')\n",
        "plt.legend(loc='lower right')\n",
        "plt.title('Training and Validation Accuracy')\n",
        "\n",
        "plt.subplot(1, 2, 2)\n",
        "plt.plot(epochs_range, loss, label='Training Loss')\n",
        "plt.plot(epochs_range, val_loss, label='Validation Loss')\n",
        "plt.legend(loc='upper right')\n",
        "plt.title('Training and Validation Loss')\n",
        "plt.savefig('graph4_97_final.jpg')\n",
        "plt.show()"
      ],
      "execution_count": 111,
      "outputs": [
        {
          "output_type": "display_data",
          "data": {
            "image/png": "[encoded data removed]",
            "text/plain": [
              "<Figure size 1152x216 with 2 Axes>"
            ]
          },
          "metadata": {
            "tags": [],
            "needs_background": "light"
          }
        }
      ]
    },
    {
      "cell_type": "code",
      "metadata": {
        "id": "dNTt0XVcIC5t",
        "colab_type": "code",
        "colab": {}
      },
      "source": [
        "def recall_m(y_true, y_pred):\n",
        "    true_positives = K.sum(K.round(K.clip(y_true * y_pred, 0, 1)))\n",
        "    possible_positives = K.sum(K.round(K.clip(y_true, 0, 1)))\n",
        "    recall = true_positives / (possible_positives + K.epsilon())\n",
        "    return recall\n",
        "\n",
        "def precision_m(y_true, y_pred):\n",
        "    true_positives = K.sum(K.round(K.clip(y_true * y_pred, 0, 1)))\n",
        "    predicted_positives = K.sum(K.round(K.clip(y_pred, 0, 1)))\n",
        "    precision = true_positives / (predicted_positives + K.epsilon())\n",
        "    return precision\n",
        "\n",
        "def f1_m(y_true, y_pred):\n",
        "    precision = precision_m(y_true, y_pred)\n",
        "    recall = recall_m(y_true, y_pred)\n",
        "    return 2*((precision*recall)/(precision+recall+K.epsilon()))"
      ],
      "execution_count": 0,
      "outputs": []
    },
    {
      "cell_type": "code",
      "metadata": {
        "id": "t9o__IS8UHbM",
        "colab_type": "code",
        "colab": {
          "base_uri": "https://localhost:8080/",
          "height": 106
        },
        "outputId": "c5fa7a2d-cf22-4920-f649-e2ac57a40d17"
      },
      "source": [
        "loss, accuracy = model.evaluate(X_test, y_test, verbose=0)\n",
        "\n",
        "y_pred = model.predict(X_test)\n",
        "recall = recall_m(y_test, y_pred)\n",
        "precision = precision_m(y_test, y_pred)\n",
        "f1_score = f1_m(y_test, y_pred)\n",
        "\n",
        "print(\"loss = \", loss)\n",
        "print(\"accuracy = \", accuracy)\n",
        "print(\"f1_score = \", f1_score.numpy())\n",
        "print(\"precision = \", precision.numpy())\n",
        "print(\"recall = \", recall.numpy())"
      ],
      "execution_count": 109,
      "outputs": [
        {
          "output_type": "stream",
          "text": [
            "loss =  0.14851313506801161\n",
            "accuracy =  0.9712918400764465\n",
            "f1_score =  90.9011\n",
            "precision =  88.0\n",
            "recall =  94.0\n"
          ],
          "name": "stdout"
        }
      ]
    },
    {
      "cell_type": "code",
      "metadata": {
        "id": "rfY-q56hNNHP",
        "colab_type": "code",
        "colab": {}
      },
      "source": [
        "model.save(\"model_97_final.h5\")"
      ],
      "execution_count": 0,
      "outputs": []
    },
    {
      "cell_type": "code",
      "metadata": {
        "id": "YbPJYIw9x3gE",
        "colab_type": "code",
        "colab": {
          "base_uri": "https://localhost:8080/",
          "height": 764
        },
        "outputId": "02eb2cdc-3fbb-4294-cffd-97717008e720"
      },
      "source": [
        "model.summary()"
      ],
      "execution_count": 112,
      "outputs": [
        {
          "output_type": "stream",
          "text": [
            "Model: \"sequential_12\"\n",
            "_________________________________________________________________\n",
            "Layer (type)                 Output Shape              Param #   \n",
            "=================================================================\n",
            "conv2d_39 (Conv2D)           (None, 200, 200, 8)       224       \n",
            "_________________________________________________________________\n",
            "max_pooling2d_39 (MaxPooling (None, 100, 100, 8)       0         \n",
            "_________________________________________________________________\n",
            "conv2d_40 (Conv2D)           (None, 100, 100, 32)      2336      \n",
            "_________________________________________________________________\n",
            "max_pooling2d_40 (MaxPooling (None, 50, 50, 32)        0         \n",
            "_________________________________________________________________\n",
            "dropout_47 (Dropout)         (None, 50, 50, 32)        0         \n",
            "_________________________________________________________________\n",
            "conv2d_41 (Conv2D)           (None, 50, 50, 64)        18496     \n",
            "_________________________________________________________________\n",
            "max_pooling2d_41 (MaxPooling (None, 25, 25, 64)        0         \n",
            "_________________________________________________________________\n",
            "dropout_48 (Dropout)         (None, 25, 25, 64)        0         \n",
            "_________________________________________________________________\n",
            "conv2d_42 (Conv2D)           (None, 25, 25, 132)       76164     \n",
            "_________________________________________________________________\n",
            "max_pooling2d_42 (MaxPooling (None, 12, 12, 132)       0         \n",
            "_________________________________________________________________\n",
            "dropout_49 (Dropout)         (None, 12, 12, 132)       0         \n",
            "_________________________________________________________________\n",
            "flatten_12 (Flatten)         (None, 19008)             0         \n",
            "_________________________________________________________________\n",
            "dense_31 (Dense)             (None, 512)               9732608   \n",
            "_________________________________________________________________\n",
            "dropout_50 (Dropout)         (None, 512)               0         \n",
            "_________________________________________________________________\n",
            "dense_32 (Dense)             (None, 64)                32832     \n",
            "_________________________________________________________________\n",
            "dropout_51 (Dropout)         (None, 64)                0         \n",
            "_________________________________________________________________\n",
            "dense_33 (Dense)             (None, 1)                 65        \n",
            "=================================================================\n",
            "Total params: 9,862,725\n",
            "Trainable params: 9,862,725\n",
            "Non-trainable params: 0\n",
            "_________________________________________________________________\n"
          ],
          "name": "stdout"
        }
      ]
    }
  ]
}